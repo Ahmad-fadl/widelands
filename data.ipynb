{
 "cells": [
  {
   "cell_type": "code",
   "execution_count": 15,
   "metadata": {},
   "outputs": [],
   "source": [
    "#read all files into an array (dataframes)\n",
    "import numpy as np\n",
    "import os\n",
    "import pandas as pd\n",
    "from IPython.display import display\n",
    "import datetime\n",
    "import re\n",
    "import json\n",
    "directory = os.getcwd() \n",
    "\n",
    "def read_data_from_files(directory):\n",
    "  dataframes= []\n",
    "  for root,dirs,files in os.walk(directory):\n",
    "      for file in files:\n",
    "         if (file.endswith(\"Buildingslogs.csv\") & os.path.exists(file)):\n",
    "            col_names = pd.read_csv(file, nrows=0).columns\n",
    "\n",
    "            dataframes.append(pd.read_csv(file,sep=\";\",low_memory=False,header=[0],skiprows=[1]))\n",
    "  return dataframes\n",
    "\n",
    "\n",
    "#group the data by building where d[str(serial)] = group\n",
    "\n",
    "def group_data_by_building(data):\n",
    "  d = {}\n",
    "  for data in data :\n",
    "    for serial, group in data.groupby('serial'):\n",
    "      d[str(serial)] = group\n",
    "  return d\n",
    "\n",
    "\n",
    "def int_to_time(input,hours_mapping):\n",
    "  return datetime.datetime(2021, 1, 1) + datetime.timedelta(hours=input/hours_mapping)\n",
    "\n",
    "def hour_rounder(t):\n",
    "    # Rounds to nearest hour by adding a timedelta hour if minute >= 30\n",
    "    return (t.replace(second=0, microsecond=0, minute=0, hour=t.hour)\n",
    "               +datetime.timedelta(hours=t.minute//30))  \n",
    "\n",
    "def map_to_real_time(data):\n",
    "  # hou much is an hour in game time \n",
    "  # for example 1hour = 2000 game time unite\n",
    "  hour_in_numbers = (int(data[0][\"time\"].max()) - int(data[0][\"time\"].min())) / (365*24)\n",
    "  for df in data :\n",
    "    df[\"time\"]=df[\"time\"].apply(int_to_time,args=[hour_in_numbers])\n",
    "    df[\"time\"]=df[\"time\"].apply(hour_rounder)\n",
    "  return data  \n",
    "\n",
    "def read_orders_data_from_files(directory):\n",
    "  dataframes= []\n",
    "  for root,dirs,files in os.walk(directory):\n",
    "      for file in files:\n",
    "         if (file.endswith(\"orderslogs.csv\") & os.path.exists(file)):\n",
    "            col_names = pd.read_csv(file, nrows=0).columns\n",
    "\n",
    "            dataframes.append(pd.read_csv(file,sep=\";\",low_memory=False,header=[0],skiprows=[1]))\n",
    "  return dataframes\n"
   ]
  },
  {
   "cell_type": "code",
   "execution_count": null,
   "metadata": {},
   "outputs": [],
   "source": [
    "\n",
    "  \n",
    "  "
   ]
  },
  {
   "cell_type": "code",
   "execution_count": 16,
   "metadata": {},
   "outputs": [],
   "source": [
    "data = read_data_from_files(directory)"
   ]
  },
  {
   "cell_type": "code",
   "execution_count": 17,
   "metadata": {},
   "outputs": [
    {
     "name": "stdout",
     "output_type": "stream",
     "text": [
      "        serial                        name      time  ware_economy_serial  \\\n",
      "0         1461     atlanteans_headquarters      1000                    2   \n",
      "1         1461     atlanteans_headquarters      2000                    2   \n",
      "2         1461     atlanteans_headquarters      2500                    2   \n",
      "3         1461     atlanteans_headquarters      3000                    2   \n",
      "4         1461     atlanteans_headquarters      4000                    2   \n",
      "...        ...                         ...       ...                  ...   \n",
      "385535    3917  atlanteans_foresters_house  14383651                 1498   \n",
      "385536   23359         atlanteans_coalmine  14383750                 1498   \n",
      "385537   23359         atlanteans_coalmine  14383750                 1498   \n",
      "385538   23359         atlanteans_coalmine  14383760                 1498   \n",
      "385539   23359         atlanteans_coalmine  14383760                 1498   \n",
      "\n",
      "        worker_economy_serial  position  reserved_by_worker  \\\n",
      "0                           3   (184,6)                   0   \n",
      "1                           3   (184,6)                   0   \n",
      "2                           3   (184,6)                   0   \n",
      "3                           3   (184,6)                   0   \n",
      "4                           3   (184,6)                   0   \n",
      "...                       ...       ...                 ...   \n",
      "385535                   1475   (182,2)                   0   \n",
      "385536                   1475  (171,15)                   0   \n",
      "385537                   1475  (171,15)                   0   \n",
      "385538                   1475  (171,15)                   0   \n",
      "385539                   1475  (171,15)                   0   \n",
      "\n",
      "                                                  workers  is_mine  is_port  \\\n",
      "0       number of workers:124,workers:{amazons_carrier...        0        0   \n",
      "1       number of workers:124,workers:{amazons_carrier...        0        0   \n",
      "2       number of workers:124,workers:{amazons_carrier...        0        0   \n",
      "3       number of workers:124,workers:{amazons_carrier...        0        0   \n",
      "4       number of workers:124,workers:{amazons_carrier...        0        0   \n",
      "...                                                   ...      ...      ...   \n",
      "385535                 ({3918,65535,atlanteans_forester})        0        0   \n",
      "385536  ({23363,65535,atlanteans_miner}{23364,65535,at...        1        0   \n",
      "385537  ({23363,65535,atlanteans_miner}{23364,65535,at...        1        0   \n",
      "385538  ({23363,65535,atlanteans_miner}{23364,65535,at...        1        0   \n",
      "385539  ({23363,65535,atlanteans_miner}{23364,65535,at...        1        0   \n",
      "\n",
      "        ...  needs_water_ways  passable  is_production_site  is_warehouse  \\\n",
      "0       ...                 0         0                   0             1   \n",
      "1       ...                 0         0                   0             1   \n",
      "2       ...                 0         0                   0             1   \n",
      "3       ...                 0         0                   0             1   \n",
      "4       ...                 0         0                   0             1   \n",
      "...     ...               ...       ...                 ...           ...   \n",
      "385535  ...                 0         0                   1             0   \n",
      "385536  ...                 0         0                   1             0   \n",
      "385537  ...                 0         0                   1             0   \n",
      "385538  ...                 0         0                   1             0   \n",
      "385539  ...                 0         0                   1             0   \n",
      "\n",
      "        is_market     ware_priorities  \\\n",
      "0               0  ware_priorities:()   \n",
      "1               0  ware_priorities:()   \n",
      "2               0  ware_priorities:()   \n",
      "3               0  ware_priorities:()   \n",
      "4               0  ware_priorities:()   \n",
      "...           ...                 ...   \n",
      "385535          0                  na   \n",
      "385536          0                  na   \n",
      "385537          0                  na   \n",
      "385538          0                  na   \n",
      "385539          0                  na   \n",
      "\n",
      "                                                    wares  \\\n",
      "0       Numberof wares:110wares:{\"balsa\":\"0\",\"log\":\"20...   \n",
      "1       Numberof wares:110wares:{\"balsa\":\"0\",\"log\":\"20...   \n",
      "2       Numberof wares:110wares:{\"balsa\":\"0\",\"log\":\"20...   \n",
      "3       Numberof wares:110wares:{\"balsa\":\"0\",\"log\":\"20...   \n",
      "4       Numberof wares:110wares:{\"balsa\":\"0\",\"log\":\"20...   \n",
      "...                                                   ...   \n",
      "385535                                                 na   \n",
      "385536                                                 na   \n",
      "385537                                                 na   \n",
      "385538                                                 na   \n",
      "385539                                                 na   \n",
      "\n",
      "                                             input_queues  \\\n",
      "0                                                      na   \n",
      "1                                                      na   \n",
      "2                                                      na   \n",
      "3                                                      na   \n",
      "4                                                      na   \n",
      "...                                                   ...   \n",
      "385535                                                 ()   \n",
      "385536  ({smoked_fish,10,10,9,normal}{smoked_meat,6,6,...   \n",
      "385537  ({smoked_fish,10,10,9,normal}{smoked_meat,6,6,...   \n",
      "385538  ({smoked_fish,10,10,9,normal}{smoked_meat,6,6,...   \n",
      "385539  ({smoked_fish,10,10,9,normal}{smoked_meat,6,6,...   \n",
      "\n",
      "                 produced_Wares  \\\n",
      "0                            na   \n",
      "1                            na   \n",
      "2                            na   \n",
      "3                            na   \n",
      "4                            na   \n",
      "...                         ...   \n",
      "385535        produced_Wares:{}   \n",
      "385536        produced_Wares:{}   \n",
      "385537        produced_Wares:{}   \n",
      "385538        produced_Wares:{}   \n",
      "385539  produced_Wares:{coal:1}   \n",
      "\n",
      "                                          workinpositions  \n",
      "0                                                      na  \n",
      "1                                                      na  \n",
      "2                                                      na  \n",
      "3                                                      na  \n",
      "4                                                      na  \n",
      "...                                                   ...  \n",
      "385535       workinpositions:({atlanteans_forester:3918,)  \n",
      "385536  workinpositions:({atlanteans_miner:19562,{atla...  \n",
      "385537  workinpositions:({atlanteans_miner:19562,{atla...  \n",
      "385538  workinpositions:({atlanteans_miner:19562,{atla...  \n",
      "385539  workinpositions:({atlanteans_miner:19562,{atla...  \n",
      "\n",
      "[385540 rows x 21 columns]\n"
     ]
    }
   ],
   "source": [
    "print(data[0])"
   ]
  },
  {
   "cell_type": "code",
   "execution_count": 18,
   "metadata": {},
   "outputs": [],
   "source": [
    "a=map_to_real_time(read_data_from_files(directory))"
   ]
  },
  {
   "cell_type": "code",
   "execution_count": 19,
   "metadata": {},
   "outputs": [
    {
     "name": "stdout",
     "output_type": "stream",
     "text": [
      "Numberof wares:110wares:{\"balsa\":\"0\",\"log\":\"20\",\"rope\":\"0\",\"rubber\":\"0\",\"granite\":\"50\",\"ironwood\":\"0\",\"liana\":\"0\",\"water\":\"12\",\"cassavaroot\":\"0\",\"cocoa_beans\":\"0\",\"amazons_bread\":\"0\",\"chocolate\":\"0\",\"fish\":\"3\",\"meat\":\"3\",\"ration\":\"0\",\"gold_dust\":\"0\",\"gold\":\"4\",\"coal\":\"12\",\"pick\":\"8\",\"felling_ax\":\"0\",\"shovel\":\"9\",\"hammer\":\"11\",\"machete\":\"0\",\"spear_wooden\":\"0\",\"chisel\":\"0\",\"kitchen_tools\":\"0\",\"needles\":\"0\",\"stone_bowl\":\"0\",\"spear_stone_tipped\":\"0\",\"spear_hardened\":\"0\",\"armor_wooden\":\"0\",\"helmet_wooden\":\"0\",\"warriors_coat\":\"0\",\"tunic\":\"0\",\"vest_padded\":\"0\",\"protector_padded\":\"0\",\"boots_sturdy\":\"0\",\"boots_swift\":\"0\",\"boots_hero\":\"0\",\"planks\":\"45\",\"spidercloth\":\"5\",\"spider_silk\":\"9\",\"smoked_fish\":\"6\",\"smoked_meat\":\"6\",\"corn\":\"5\",\"cornmeal\":\"12\",\"blackroot\":\"5\",\"blackroot_flour\":\"12\",\"atlanteans_bread\":\"8\",\"quartz\":\"9\",\"diamond\":\"7\",\"iron_ore\":\"5\",\"iron\":\"8\",\"gold_ore\":\"0\",\"saw\":\"9\",\"milking_tongs\":\"2\",\"fishing_net\":\"4\",\"buckets\":\"2\",\"hunting_bow\":\"1\",\"hook_pole\":\"2\",\"scythe\":\"4\",\"bread_paddle\":\"2\",\"fire_tongs\":\"2\",\"trident_light\":\"5\",\"trident_long\":\"0\",\"trident_steel\":\"0\",\"trident_double\":\"0\",\"trident_heavy_double\":\"0\",\"shield_steel\":\"0\",\"shield_advanced\":\"0\",\"tabard\":\"5\",\"gold_thread\":\"6\",\"tabard_golden\":\"0\",\"blackwood\":\"0\",\"cloth\":\"0\",\"grout\":\"0\",\"reed\":\"0\",\"wheat\":\"0\",\"barbarians_bread\":\"0\",\"beer\":\"0\",\"beer_strong\":\"0\",\"snack\":\"0\",\"meal\":\"0\",\"fishing_rod\":\"0\",\"hunting_spear\":\"0\",\"ax\":\"0\",\"ax_sharp\":\"0\",\"ax_broad\":\"0\",\"ax_bronze\":\"0\",\"ax_battle\":\"0\",\"ax_warriors\":\"0\",\"helmet\":\"0\",\"helmet_mask\":\"0\",\"helmet_warhelm\":\"0\",\"wool\":\"0\",\"flour\":\"0\",\"empire_bread\":\"0\",\"grape\":\"0\",\"wine\":\"0\",\"marble\":\"0\",\"marble_column\":\"0\",\"basket\":\"0\",\"spear\":\"0\",\"spear_advanced\":\"0\",\"spear_heavy\":\"0\",\"spear_war\":\"0\",\"armor_helmet\":\"0\",\"armor\":\"0\",\"armor_chain\":\"0\",\"armor_gilded\":\"0\"}\n",
      "{\"balsa\":\"0\",\"log\":\"20\",\"rope\":\"0\",\"rubber\":\"0\",\"granite\":\"50\",\"ironwood\":\"0\",\"liana\":\"0\",\"water\":\"12\",\"cassavaroot\":\"0\",\"cocoa_beans\":\"0\",\"amazons_bread\":\"0\",\"chocolate\":\"0\",\"fish\":\"3\",\"meat\":\"3\",\"ration\":\"0\",\"gold_dust\":\"0\",\"gold\":\"4\",\"coal\":\"12\",\"pick\":\"8\",\"felling_ax\":\"0\",\"shovel\":\"9\",\"hammer\":\"11\",\"machete\":\"0\",\"spear_wooden\":\"0\",\"chisel\":\"0\",\"kitchen_tools\":\"0\",\"needles\":\"0\",\"stone_bowl\":\"0\",\"spear_stone_tipped\":\"0\",\"spear_hardened\":\"0\",\"armor_wooden\":\"0\",\"helmet_wooden\":\"0\",\"warriors_coat\":\"0\",\"tunic\":\"0\",\"vest_padded\":\"0\",\"protector_padded\":\"0\",\"boots_sturdy\":\"0\",\"boots_swift\":\"0\",\"boots_hero\":\"0\",\"planks\":\"45\",\"spidercloth\":\"5\",\"spider_silk\":\"9\",\"smoked_fish\":\"6\",\"smoked_meat\":\"6\",\"corn\":\"5\",\"cornmeal\":\"12\",\"blackroot\":\"5\",\"blackroot_flour\":\"12\",\"atlanteans_bread\":\"8\",\"quartz\":\"9\",\"diamond\":\"7\",\"iron_ore\":\"5\",\"iron\":\"8\",\"gold_ore\":\"0\",\"saw\":\"9\",\"milking_tongs\":\"2\",\"fishing_net\":\"4\",\"buckets\":\"2\",\"hunting_bow\":\"1\",\"hook_pole\":\"2\",\"scythe\":\"4\",\"bread_paddle\":\"2\",\"fire_tongs\":\"2\",\"trident_light\":\"5\",\"trident_long\":\"0\",\"trident_steel\":\"0\",\"trident_double\":\"0\",\"trident_heavy_double\":\"0\",\"shield_steel\":\"0\",\"shield_advanced\":\"0\",\"tabard\":\"5\",\"gold_thread\":\"6\",\"tabard_golden\":\"0\",\"blackwood\":\"0\",\"cloth\":\"0\",\"grout\":\"0\",\"reed\":\"0\",\"wheat\":\"0\",\"barbarians_bread\":\"0\",\"beer\":\"0\",\"beer_strong\":\"0\",\"snack\":\"0\",\"meal\":\"0\",\"fishing_rod\":\"0\",\"hunting_spear\":\"0\",\"ax\":\"0\",\"ax_sharp\":\"0\",\"ax_broad\":\"0\",\"ax_bronze\":\"0\",\"ax_battle\":\"0\",\"ax_warriors\":\"0\",\"helmet\":\"0\",\"helmet_mask\":\"0\",\"helmet_warhelm\":\"0\",\"wool\":\"0\",\"flour\":\"0\",\"empire_bread\":\"0\",\"grape\":\"0\",\"wine\":\"0\",\"marble\":\"0\",\"marble_column\":\"0\",\"basket\":\"0\",\"spear\":\"0\",\"spear_advanced\":\"0\",\"spear_heavy\":\"0\",\"spear_war\":\"0\",\"armor_helmet\":\"0\",\"armor\":\"0\",\"armor_chain\":\"0\",\"armor_gilded\":\"0\"}\n"
     ]
    }
   ],
   "source": [
    "string=a[0].loc[(a[0]['name'] == \"atlanteans_headquarters\") ][\"wares\"][0]\n",
    "print(string)\n",
    "string = re.sub(r\".*wares\\:\", \"\", string)\n",
    "\n",
    "print (string)\n"
   ]
  },
  {
   "cell_type": "code",
   "execution_count": 20,
   "metadata": {},
   "outputs": [],
   "source": [
    "Dict = json.loads(string)"
   ]
  },
  {
   "cell_type": "code",
   "execution_count": 21,
   "metadata": {},
   "outputs": [
    {
     "name": "stdout",
     "output_type": "stream",
     "text": [
      "             ware amount\n",
      "0           balsa      0\n",
      "1             log     20\n",
      "2            rope      0\n",
      "3          rubber      0\n",
      "4         granite     50\n",
      "..            ...    ...\n",
      "105     spear_war      0\n",
      "106  armor_helmet      0\n",
      "107         armor      0\n",
      "108   armor_chain      0\n",
      "109  armor_gilded      0\n",
      "\n",
      "[110 rows x 2 columns]\n"
     ]
    }
   ],
   "source": [
    "fuck = pd.DataFrame.from_dict(Dict.items())\n",
    "fuck.columns = ['ware', 'amount']\n",
    "\n",
    "print(fuck)"
   ]
  },
  {
   "cell_type": "code",
   "execution_count": 22,
   "metadata": {},
   "outputs": [],
   "source": [
    "orders=read_orders_data_from_files(directory)"
   ]
  },
  {
   "cell_type": "code",
   "execution_count": 23,
   "metadata": {},
   "outputs": [],
   "source": [
    "orders_maped = map_to_real_time(orders)"
   ]
  },
  {
   "cell_type": "code",
   "execution_count": 24,
   "metadata": {},
   "outputs": [],
   "source": [
    "orders[0].rename(columns={'building_serial':'serial'}, inplace=True)"
   ]
  },
  {
   "cell_type": "code",
   "execution_count": 25,
   "metadata": {},
   "outputs": [
    {
     "name": "stdout",
     "output_type": "stream",
     "text": [
      "      serial                       name                time requested_Ware  \\\n",
      "0       1604           constructionsite 2021-01-01 11:00:00         planks   \n",
      "1       1604           constructionsite 2021-01-01 11:00:00            log   \n",
      "2       1604           constructionsite 2021-01-01 11:00:00    vest_padded   \n",
      "3       1656                       road 2021-01-01 11:00:00        needles   \n",
      "4       1604           constructionsite 2021-01-01 12:00:00            log   \n",
      "...      ...                        ...                 ...            ...   \n",
      "7667   38427  atlanteans_smelting_works 2022-01-01 10:00:00           coal   \n",
      "7668  116262                       road 2022-01-01 10:00:00        needles   \n",
      "7669   82608   atlanteans_charcoal_kiln 2022-01-01 10:00:00            log   \n",
      "7670    4937    atlanteans_weaving_mill 2022-01-01 11:00:00    spider_silk   \n",
      "7671    5397         atlanteans_sawmill 2022-01-01 11:00:00            log   \n",
      "\n",
      "      amount  \n",
      "0          1  \n",
      "1          2  \n",
      "2          1  \n",
      "3          1  \n",
      "4          2  \n",
      "...      ...  \n",
      "7667       2  \n",
      "7668       1  \n",
      "7669       6  \n",
      "7670       1  \n",
      "7671       4  \n",
      "\n",
      "[7672 rows x 5 columns]\n"
     ]
    }
   ],
   "source": [
    "print(orders[0])"
   ]
  },
  {
   "cell_type": "code",
   "execution_count": 26,
   "metadata": {},
   "outputs": [],
   "source": [
    "merged_data = a[0].merge(orders[0], on=[\"serial\",\"time\"], how='left')"
   ]
  },
  {
   "cell_type": "code",
   "execution_count": 27,
   "metadata": {},
   "outputs": [
    {
     "name": "stdout",
     "output_type": "stream",
     "text": [
      "serial                                                                4406\n",
      "name_x                                               atlanteans_spiderfarm\n",
      "time                                                   2021-01-22 03:00:00\n",
      "ware_economy_serial                                                     16\n",
      "worker_economy_serial                                                   17\n",
      "position                                                           (182,9)\n",
      "reserved_by_worker                                                       0\n",
      "workers                            ({4411,65535,atlanteans_spiderbreeder})\n",
      "is_mine                                                                  0\n",
      "is_port                                                                  0\n",
      "needs_seafaring                                                          0\n",
      "needs_water_ways                                                         0\n",
      "passable                                                                 0\n",
      "is_production_site                                                       1\n",
      "is_warehouse                                                             0\n",
      "is_market                                                                0\n",
      "ware_priorities                                                         na\n",
      "wares                                                                   na\n",
      "input_queues                     ({water,7,7,7,normal}{corn,7,7,3,normal})\n",
      "produced_Wares                                           produced_Wares:{}\n",
      "workinpositions          workinpositions:({atlanteans_spiderbreeder:4411,)\n",
      "name_y                                               atlanteans_spiderfarm\n",
      "requested_Ware                                                        corn\n",
      "amount                                                                 4.0\n",
      "Name: 2936, dtype: object\n"
     ]
    }
   ],
   "source": [
    "print(merged_data[~merged_data[\"requested_Ware\"].isnull()].iloc[1,])"
   ]
  },
  {
   "cell_type": "code",
   "execution_count": 28,
   "metadata": {},
   "outputs": [],
   "source": [
    "#get one buildings stockes according to IBP Stock\n",
    "#data_line is one line where wares != nan of the original data\n",
    "def data_line_to_one_building_stock_IBP(data_line):\n",
    "  locations = pd.DataFrame(columns=['LOCNO','LOCTYPE','NAME1','NAME2','LAND1','REGIO','ORT01','PSTLZ','PSTL2','STRAS','LOEVM','TIME_ZONE','TELF1','FABKL','KUKLA','NODETYPE','CUST_ATTR1','CUST_ATTR2','CUST_ATTR3','CUST_ATTR4','CUST_ATTR5','CUST_ATTR6','CUST_ATTR7','CUST_ATTR8','CUST_ATTR9','CUST_ATTR10','LONGITUDE','LATITUDE'])\n",
    "  stocks = pd.DataFrame(columns=['MATNR','LOC_WERKS','VRFKZ','MNG01'])\n",
    "  locations[\"LOCNO\"]=data_line[\"position\"]\n",
    "  locations[\"LOCTYPE\"]=\"V\"\n",
    "  group_data_by_building\n",
    "\n",
    "  "
   ]
  }
 ],
 "metadata": {
  "interpreter": {
   "hash": "ac2eaa0ea0ebeafcc7822e65e46aa9d4f966f30b695406963e145ea4a91cd4fc"
  },
  "kernelspec": {
   "display_name": "Python 3.9.10 64-bit",
   "language": "python",
   "name": "python3"
  },
  "language_info": {
   "codemirror_mode": {
    "name": "ipython",
    "version": 3
   },
   "file_extension": ".py",
   "mimetype": "text/x-python",
   "name": "python",
   "nbconvert_exporter": "python",
   "pygments_lexer": "ipython3",
   "version": "3.9.10"
  },
  "orig_nbformat": 4
 },
 "nbformat": 4,
 "nbformat_minor": 2
}
